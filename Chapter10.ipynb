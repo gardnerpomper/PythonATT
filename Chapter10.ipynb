{
 "cells": [
  {
   "cell_type": "markdown",
   "metadata": {},
   "source": [
    "# Chapter 10 - Errors and Exception handling"
   ]
  },
  {
   "cell_type": "code",
   "execution_count": 3,
   "metadata": {
    "collapsed": false
   },
   "outputs": [
    {
     "name": "stdout",
     "output_type": "stream",
     "text": [
      "/media/sf_IntroPythonATT/python1/ANSWERS3\n"
     ]
    }
   ],
   "source": [
    "%cd python1/ANSWERS3"
   ]
  },
  {
   "cell_type": "code",
   "execution_count": 78,
   "metadata": {
    "collapsed": false
   },
   "outputs": [
    {
     "ename": "TypeError",
     "evalue": "Can't convert 'int' object to str implicitly",
     "output_type": "error",
     "traceback": [
      "\u001b[1;31m---------------------------------------------------------------------------\u001b[0m",
      "\u001b[1;31mTypeError\u001b[0m                                 Traceback (most recent call last)",
      "\u001b[1;32m<ipython-input-78-8d0740f6f940>\u001b[0m in \u001b[0;36m<module>\u001b[1;34m()\u001b[0m\n\u001b[1;32m----> 1\u001b[1;33m \u001b[1;34m\"cheese\"\u001b[0m \u001b[1;33m+\u001b[0m \u001b[1;36m5\u001b[0m\u001b[1;33m\u001b[0m\u001b[0m\n\u001b[0m",
      "\u001b[1;31mTypeError\u001b[0m: Can't convert 'int' object to str implicitly"
     ]
    }
   ],
   "source": [
    "\"cheese\" + 5"
   ]
  },
  {
   "cell_type": "code",
   "execution_count": 91,
   "metadata": {
    "collapsed": false
   },
   "outputs": [
    {
     "name": "stdout",
     "output_type": "stream",
     "text": [
      "anything unsupported operand type(s) for +: 'int' and 'str'\n",
      "no matter what\n"
     ]
    }
   ],
   "source": [
    "try:\n",
    "    x = 5\n",
    "    y = \"cheese\"\n",
    "    z = x + y\n",
    "    f = open(\"sesame.txt\")\n",
    "    print (\"bottom of try\")\n",
    "except (IOError, TypeError) as e:\n",
    "    print(\"anything\",e)\n",
    "else:\n",
    "    print(\"no exception\")\n",
    "finally:\n",
    "    print(\"no matter what\")"
   ]
  },
  {
   "cell_type": "code",
   "execution_count": 92,
   "metadata": {
    "collapsed": false
   },
   "outputs": [
    {
     "ename": "ZeroDivisionError",
     "evalue": "division by zero",
     "output_type": "error",
     "traceback": [
      "\u001b[1;31m---------------------------------------------------------------------------\u001b[0m",
      "\u001b[1;31mZeroDivisionError\u001b[0m                         Traceback (most recent call last)",
      "\u001b[1;32m<ipython-input-92-a0641230c7a8>\u001b[0m in \u001b[0;36m<module>\u001b[1;34m()\u001b[0m\n\u001b[1;32m----> 1\u001b[1;33m \u001b[1;36m3\u001b[0m\u001b[1;33m/\u001b[0m\u001b[1;36m0\u001b[0m\u001b[1;33m\u001b[0m\u001b[0m\n\u001b[0m",
      "\u001b[1;31mZeroDivisionError\u001b[0m: division by zero"
     ]
    }
   ],
   "source": [
    "3/0"
   ]
  },
  {
   "cell_type": "code",
   "execution_count": null,
   "metadata": {
    "collapsed": true
   },
   "outputs": [],
   "source": [
    "for fn in files():\n",
    "    try:\n",
    "        process(fn)\n",
    "    except Exception as e:\n",
    "        print('failed on file {}'.format(fn))\n"
   ]
  },
  {
   "cell_type": "code",
   "execution_count": 6,
   "metadata": {
    "collapsed": false
   },
   "outputs": [
    {
     "name": "stdout",
     "output_type": "stream",
     "text": [
      "Enter Celsius temp: 33\n",
      "33.0 C is 91.4 F\n",
      "Enter Celsius temp: aa\n",
      "You must enter a numeric value could not convert string to float: 'aa'\n",
      "Enter Celsius temp: 34\n",
      "34.0 C is 93.2 F\n",
      "Enter Celsius temp: a88\n",
      "You must enter a numeric value could not convert string to float: 'a88'\n",
      "Enter Celsius temp: 88\n",
      "88.0 C is 190.4 F\n",
      "Enter Celsius temp: q\n",
      "goodbye\n"
     ]
    }
   ],
   "source": [
    "# %load ex10-2.py\n",
    "#!/usr/bin/python\n",
    "\n",
    "while True:\n",
    "    try:\n",
    "        c = input(\"Enter Celsius temp: \")\n",
    "        if c.startswith('q'):\n",
    "            break\n",
    "        c = float(c)\n",
    "    except ValueError as e:\n",
    "        print(\"You must enter a numeric value\",e)\n",
    "        continue\n",
    "    f = ((9 * c) / 5 ) + 32\n",
    "    print(\"{0:.1f} C is {1:.1f} F\".format(c,f))\n",
    "\n",
    "print(\"goodbye\")\n",
    "\n"
   ]
  },
  {
   "cell_type": "code",
   "execution_count": null,
   "metadata": {
    "collapsed": true
   },
   "outputs": [],
   "source": []
  }
 ],
 "metadata": {
  "anaconda-cloud": {},
  "kernelspec": {
   "display_name": "Python [Root]",
   "language": "python",
   "name": "Python [Root]"
  },
  "language_info": {
   "codemirror_mode": {
    "name": "ipython",
    "version": 3
   },
   "file_extension": ".py",
   "mimetype": "text/x-python",
   "name": "python",
   "nbconvert_exporter": "python",
   "pygments_lexer": "ipython3",
   "version": "3.5.2"
  }
 },
 "nbformat": 4,
 "nbformat_minor": 0
}
