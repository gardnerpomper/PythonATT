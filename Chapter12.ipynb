{
 "cells": [
  {
   "cell_type": "markdown",
   "metadata": {},
   "source": [
    "# Chapter 12 - Regular Expressions"
   ]
  },
  {
   "cell_type": "code",
   "execution_count": 35,
   "metadata": {
    "collapsed": true
   },
   "outputs": [],
   "source": [
    "import re"
   ]
  },
  {
   "cell_type": "code",
   "execution_count": 50,
   "metadata": {
    "collapsed": false
   },
   "outputs": [],
   "source": [
    "#\n",
    "# the ? after the .* makes it non-greedy, so the <year> group will match\n",
    "# all 4 digits. Otherwise it will just match 2\n",
    "#\n",
    "r = re.compile(r\"(?P<day>\\d+).*(?P<month>March).*?(?P<year>\\d{2,4})\")"
   ]
  },
  {
   "cell_type": "code",
   "execution_count": 51,
   "metadata": {
    "collapsed": true
   },
   "outputs": [],
   "source": [
    "m = r.search(\"This is the 3rd day of March in teh year 1980\")"
   ]
  },
  {
   "cell_type": "code",
   "execution_count": 52,
   "metadata": {
    "collapsed": false
   },
   "outputs": [
    {
     "name": "stdout",
     "output_type": "stream",
     "text": [
      "<_sre.SRE_Match object; span=(12, 45), match='3rd day of March in teh year 1980'>\n"
     ]
    }
   ],
   "source": [
    "print(m)"
   ]
  },
  {
   "cell_type": "code",
   "execution_count": 53,
   "metadata": {
    "collapsed": false
   },
   "outputs": [
    {
     "data": {
      "text/plain": [
       "{'day': '3', 'month': 'March', 'year': '1980'}"
      ]
     },
     "execution_count": 53,
     "metadata": {},
     "output_type": "execute_result"
    }
   ],
   "source": [
    "m.groupdict()"
   ]
  },
  {
   "cell_type": "code",
   "execution_count": 46,
   "metadata": {
    "collapsed": false
   },
   "outputs": [
    {
     "data": {
      "text/plain": [
       "'3rd day of March in teh year 1980'"
      ]
     },
     "execution_count": 46,
     "metadata": {},
     "output_type": "execute_result"
    }
   ],
   "source": [
    "m.group()"
   ]
  },
  {
   "cell_type": "code",
   "execution_count": 47,
   "metadata": {
    "collapsed": false
   },
   "outputs": [
    {
     "data": {
      "text/plain": [
       "(12, 45)"
      ]
     },
     "execution_count": 47,
     "metadata": {},
     "output_type": "execute_result"
    }
   ],
   "source": [
    "m.span()"
   ]
  },
  {
   "cell_type": "code",
   "execution_count": 49,
   "metadata": {
    "collapsed": false
   },
   "outputs": [
    {
     "data": {
      "text/plain": [
       "('3', 'March', '80')"
      ]
     },
     "execution_count": 49,
     "metadata": {},
     "output_type": "execute_result"
    }
   ],
   "source": [
    "m.groups()"
   ]
  },
  {
   "cell_type": "code",
   "execution_count": 48,
   "metadata": {
    "collapsed": false
   },
   "outputs": [
    {
     "name": "stdout",
     "output_type": "stream",
     "text": [
      "Help on SRE_Match object:\n",
      "\n",
      "class SRE_Match(builtins.object)\n",
      " |  The result of re.match() and re.search().\n",
      " |  Match objects always have a boolean value of True.\n",
      " |  \n",
      " |  Methods defined here:\n",
      " |  \n",
      " |  __copy__(self, /)\n",
      " |  \n",
      " |  __deepcopy__(self, /, memo)\n",
      " |  \n",
      " |  __repr__(self, /)\n",
      " |      Return repr(self).\n",
      " |  \n",
      " |  end(self, group=0, /)\n",
      " |      Return index of the end of the substring matched by group.\n",
      " |  \n",
      " |  expand(self, /, template)\n",
      " |      Return the string obtained by doing backslash substitution on the string template, as done by the sub() method.\n",
      " |  \n",
      " |  group(...)\n",
      " |      group([group1, ...]) -> str or tuple.\n",
      " |      Return subgroup(s) of the match by indices or names.\n",
      " |      For 0 returns the entire match.\n",
      " |  \n",
      " |  groupdict(self, /, default=None)\n",
      " |      Return a dictionary containing all the named subgroups of the match, keyed by the subgroup name.\n",
      " |      \n",
      " |      default\n",
      " |        Is used for groups that did not participate in the match.\n",
      " |  \n",
      " |  groups(self, /, default=None)\n",
      " |      Return a tuple containing all the subgroups of the match, from 1.\n",
      " |      \n",
      " |      default\n",
      " |        Is used for groups that did not participate in the match.\n",
      " |  \n",
      " |  span(self, group=0, /)\n",
      " |      For MatchObject m, return the 2-tuple (m.start(group), m.end(group)).\n",
      " |  \n",
      " |  start(self, group=0, /)\n",
      " |      Return index of the start of the substring matched by group.\n",
      " |  \n",
      " |  ----------------------------------------------------------------------\n",
      " |  Data descriptors defined here:\n",
      " |  \n",
      " |  endpos\n",
      " |  \n",
      " |  lastgroup\n",
      " |  \n",
      " |  lastindex\n",
      " |  \n",
      " |  pos\n",
      " |  \n",
      " |  re\n",
      " |  \n",
      " |  regs\n",
      " |  \n",
      " |  string\n",
      "\n"
     ]
    }
   ],
   "source": [
    "help(m)"
   ]
  },
  {
   "cell_type": "code",
   "execution_count": null,
   "metadata": {
    "collapsed": true
   },
   "outputs": [],
   "source": []
  }
 ],
 "metadata": {
  "anaconda-cloud": {},
  "kernelspec": {
   "display_name": "Python [Root]",
   "language": "python",
   "name": "Python [Root]"
  },
  "language_info": {
   "codemirror_mode": {
    "name": "ipython",
    "version": 3
   },
   "file_extension": ".py",
   "mimetype": "text/x-python",
   "name": "python",
   "nbconvert_exporter": "python",
   "pygments_lexer": "ipython3",
   "version": "3.5.2"
  }
 },
 "nbformat": 4,
 "nbformat_minor": 0
}
