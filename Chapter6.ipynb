{
 "cells": [
  {
   "cell_type": "code",
   "execution_count": 12,
   "metadata": {
    "collapsed": false
   },
   "outputs": [
    {
     "name": "stdout",
     "output_type": "stream",
     "text": [
      "\u001b[0m\u001b[38;5;34m6-1_testvalues.txt\u001b[0m*  \u001b[38;5;34mfruit2.txt\u001b[0m*   \u001b[38;5;34mpasswd\u001b[0m*          \u001b[38;5;34mtestscores.dat\u001b[0m*\r\n",
      "\u001b[38;5;34malice.txt\u001b[0m*           \u001b[38;5;34mfruit.txt\u001b[0m*    \u001b[38;5;34mpoe_sonnet.txt\u001b[0m*  \u001b[38;5;34mtextfiles.zip\u001b[0m*\r\n",
      "\u001b[38;5;34malt.txt\u001b[0m*             \u001b[38;5;34mhosts\u001b[0m*        \u001b[38;5;34mpresidents.txt\u001b[0m*  \u001b[38;5;34mtolkien.txt\u001b[0m*\r\n",
      "\u001b[38;5;34mbreakfast.txt\u001b[0m*       \u001b[38;5;34mindex.html\u001b[0m*   \u001b[38;5;34mrxml_data.xml\u001b[0m*   \u001b[38;5;34mtyger.txt\u001b[0m*\r\n",
      "\u001b[38;5;34mcustinfo.dat\u001b[0m*        \u001b[38;5;34mknights.txt\u001b[0m*  \u001b[38;5;34mspam.txt\u001b[0m*\r\n",
      "\u001b[38;5;34meggs.txt\u001b[0m*            \u001b[38;5;34mmystery\u001b[0m*      \u001b[38;5;34mstateinfo.txt\u001b[0m*\r\n",
      "\u001b[38;5;34mfruit1.txt\u001b[0m*          \u001b[38;5;34mparrot.txt\u001b[0m*   \u001b[38;5;34msystems.dat\u001b[0m*\r\n"
     ]
    }
   ],
   "source": [
    "%ls ../DATA"
   ]
  },
  {
   "cell_type": "code",
   "execution_count": 17,
   "metadata": {
    "collapsed": true
   },
   "outputs": [],
   "source": [
    "fp = open('../DATA/spam.txt','r')\n",
    "\n",
    "for line in fp:\n",
    "    print(line.strip())\n",
    "fp.close()"
   ]
  },
  {
   "cell_type": "code",
   "execution_count": 21,
   "metadata": {
    "collapsed": false
   },
   "outputs": [
    {
     "name": "stdout",
     "output_type": "stream",
     "text": [
      "SPAM may be famous now, but it wasn't always that way. Fact is, SPAM hails from some rather humble beginnings.\n",
      "Flash back to Austin, Minnesota, in 1937.\n",
      "You're right. There isn't much here, except for an ambitious company called Hormel.\n",
      "These good folks are about to hit upon an amazing little recipe: a spicy ham packaged in a handy dandy 12-ounce can.\n",
      "J. C. Hormel, then president, adds the crowning ingredient: He holds a contest to give the product a name as distinctive as its taste.\n",
      "SPAM soars. In fact, in that very first year of production, it grabs 18 percent of the market.\n",
      "Over 65 years years later, more than 6 billion cans of SPAM have been sold.\n"
     ]
    }
   ],
   "source": [
    "fp = open('../DATA/spam.txt','r')\n",
    "\n",
    "lines = fp.readlines()\n",
    "for line in lines:\n",
    "    line = line.strip()\n",
    "    if len(line) == 0: continue\n",
    "    print(line)\n",
    "fp.close()"
   ]
  },
  {
   "cell_type": "code",
   "execution_count": 23,
   "metadata": {
    "collapsed": false
   },
   "outputs": [
    {
     "name": "stdout",
     "output_type": "stream",
     "text": [
      "SPAM may be famous now, but it wasn't always that way. Fact is, SPAM hails from some rather humble beginnings.\n",
      "\n",
      "Flash back to Austin, Minnesota, in 1937.\n",
      "\n",
      "You're right. There isn't much here, except for an ambitious company called Hormel.\n",
      "\n",
      "These good folks are about to hit upon an amazing little recipe: a spicy ham packaged in a handy dandy 12-ounce can.\n",
      "\n",
      "J. C. Hormel, then president, adds the crowning ingredient: He holds a contest to give the product a name as distinctive as its taste.\n",
      "\n",
      "SPAM soars. In fact, in that very first year of production, it grabs 18 percent of the market.\n",
      "\n",
      "Over 65 years years later, more than 6 billion cans of SPAM have been sold. \n",
      "\n"
     ]
    }
   ],
   "source": [
    "fp = open('../DATA/spam.txt','r')\n",
    "text = fp.read()\n",
    "lines = text.split('\\n')\n",
    "for line in lines:\n",
    "    print(line)\n",
    "fp.close()\n",
    "\n",
    "fp = open('spam.txt','w')\n",
    "fp.write(text)\n",
    "fp.close()"
   ]
  },
  {
   "cell_type": "code",
   "execution_count": 24,
   "metadata": {
    "collapsed": false
   },
   "outputs": [
    {
     "data": {
      "text/plain": [
       "'/media/sf_IntroPythonATT/python1/ANSWERS3'"
      ]
     },
     "execution_count": 24,
     "metadata": {},
     "output_type": "execute_result"
    }
   ],
   "source": [
    "%pwd"
   ]
  },
  {
   "cell_type": "code",
   "execution_count": 25,
   "metadata": {
    "collapsed": true
   },
   "outputs": [],
   "source": [
    "with open('spam.txt') as fp:\n",
    "    text = fp.read()"
   ]
  },
  {
   "cell_type": "code",
   "execution_count": 26,
   "metadata": {
    "collapsed": false
   },
   "outputs": [
    {
     "name": "stdout",
     "output_type": "stream",
     "text": [
      "SPAM may be famous now, but it wasn't always that way. Fact is, SPAM hails from some rather humble beginnings.\n",
      "\n",
      "Flash back to Austin, Minnesota, in 1937.\n",
      "\n",
      "You're right. There isn't much here, except for an ambitious company called Hormel.\n",
      "\n",
      "These good folks are about to hit upon an amazing little recipe: a spicy ham packaged in a handy dandy 12-ounce can.\n",
      "\n",
      "J. C. Hormel, then president, adds the crowning ingredient: He holds a contest to give the product a name as distinctive as its taste.\n",
      "\n",
      "SPAM soars. In fact, in that very first year of production, it grabs 18 percent of the market.\n",
      "\n",
      "Over 65 years years later, more than 6 billion cans of SPAM have been sold.\n"
     ]
    }
   ],
   "source": [
    "with open('spam.txt') as fp:\n",
    "    for line in fp:\n",
    "        print(line.strip())\n"
   ]
  },
  {
   "cell_type": "markdown",
   "metadata": {},
   "source": [
    "## Exercise 6-2"
   ]
  },
  {
   "cell_type": "code",
   "execution_count": 27,
   "metadata": {
    "collapsed": true
   },
   "outputs": [],
   "source": [
    "fpL = []\n",
    "with open('../DATA/alt.txt') as f_in:\n",
    "    with open('a.txt','w') as a_out:\n",
    "        fpL.append(a_out)\n",
    "        with open('b.txt','w') as b_out:\n",
    "            fpL.append(b_out)\n",
    "            for lineno, line in enumerate(f_in):\n",
    "                fpL[ lineno%2 ].write(line)\n"
   ]
  },
  {
   "cell_type": "code",
   "execution_count": 42,
   "metadata": {
    "collapsed": false
   },
   "outputs": [
    {
     "name": "stdout",
     "output_type": "stream",
     "text": [
      "\r\n",
      "             ___.-~\"~-._   __....__\r\n",
      "           .'    `    \\ ~\"~        ``-.\r\n",
      "          /` _      )  `\\              `\\\r\n",
      "         /`  a)    /     |               `\\\r\n",
      "\r\n",
      "        :`        /      |                 \\\r\n",
      "   <`-._|`  .-.  (      /   .            `;\\\\          _.-~\"~-.\r\n",
      "    `-. `--'_.'-.;\\___/'   .      .       | \\\\       ;`a)   )  `\\\r\n",
      " _     /:--`     |        /     /        .'  \\\\     /      /    |~=-=--.\r\n",
      "(\"\\   /`/        |       '     '         /    ;`'._/ ,;_  |    /        \".\r\n",
      "`\\'\\_/`/         .\\     /`~`=-.:        /     ``.,__/ ` `| `\"~`           \\\r\n",
      "  `._.'          /`\\    |      `\\      /(            .--'   /      /      |\\\r\n",
      "                /  /\\   |        `Y   /  \\          /  ____/\\     |      / `\"\r\n",
      "               J  /  Y  |         |  /`\\  \\        /__/  |  |`-...-\\    |\r\n",
      "              /  |   |  |         |  |  |  |       '\"\"   |  |      |`\\  |\r\n",
      "             \"---\"  /___|        /___|  /__|             /__|     /__/__|\r\n",
      "                    '\"\"\"         '\"\"\"  '\"\"\"              '\"\"\"    '\"\"\"'\"\"\r\n",
      "\r\n",
      "Congratulations! Your Python program worked.\r\n",
      "\r\n",
      "\n"
     ]
    }
   ],
   "source": [
    "# %load demystify.py\n",
    "#!/usr/bin/python\n",
    "\n",
    "with open(\"../DATA/mystery\",\"rb\") as m:\n",
    "    bytes = m.read()\n",
    "\n",
    "print(bytes[::2].decode('utf-8'),end='')"
   ]
  },
  {
   "cell_type": "code",
   "execution_count": 35,
   "metadata": {
    "collapsed": true
   },
   "outputs": [],
   "source": [
    "import os\n"
   ]
  },
  {
   "cell_type": "code",
   "execution_count": 38,
   "metadata": {
    "collapsed": false
   },
   "outputs": [
    {
     "data": {
      "text/plain": [
       "'/media/sf_IntroPythonATT/python1/ANSWERS3'"
      ]
     },
     "execution_count": 38,
     "metadata": {},
     "output_type": "execute_result"
    }
   ],
   "source": [
    "os.getcwd()"
   ]
  },
  {
   "cell_type": "code",
   "execution_count": 40,
   "metadata": {
    "collapsed": false
   },
   "outputs": [
    {
     "data": {
      "text/plain": [
       "['6-1_testvalues.txt',\n",
       " 'alice.txt',\n",
       " 'alt.txt',\n",
       " 'breakfast.txt',\n",
       " 'eggs.txt',\n",
       " 'fruit.txt',\n",
       " 'fruit1.txt',\n",
       " 'fruit2.txt',\n",
       " 'knights.txt',\n",
       " 'parrot.txt',\n",
       " 'poe_sonnet.txt',\n",
       " 'presidents.txt',\n",
       " 'spam.txt',\n",
       " 'stateinfo.txt',\n",
       " 'tolkien.txt',\n",
       " 'tyger.txt']"
      ]
     },
     "execution_count": 40,
     "metadata": {},
     "output_type": "execute_result"
    }
   ],
   "source": [
    "[nm for nm in os.listdir('../DATA') if nm.endswith('.txt')]"
   ]
  },
  {
   "cell_type": "code",
   "execution_count": null,
   "metadata": {
    "collapsed": true
   },
   "outputs": [],
   "source": []
  }
 ],
 "metadata": {
  "anaconda-cloud": {},
  "kernelspec": {
   "display_name": "Python [Root]",
   "language": "python",
   "name": "Python [Root]"
  },
  "language_info": {
   "codemirror_mode": {
    "name": "ipython",
    "version": 3
   },
   "file_extension": ".py",
   "mimetype": "text/x-python",
   "name": "python",
   "nbconvert_exporter": "python",
   "pygments_lexer": "ipython3",
   "version": "3.5.2"
  }
 },
 "nbformat": 4,
 "nbformat_minor": 0
}
