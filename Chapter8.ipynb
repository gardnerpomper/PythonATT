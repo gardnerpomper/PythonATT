{
 "cells": [
  {
   "cell_type": "markdown",
   "metadata": {},
   "source": [
    "# Chapter 8 - Functions"
   ]
  },
  {
   "cell_type": "code",
   "execution_count": 59,
   "metadata": {
    "collapsed": true
   },
   "outputs": [],
   "source": [
    "def divide(x,y):\n",
    "    return y/x\n"
   ]
  },
  {
   "cell_type": "code",
   "execution_count": 60,
   "metadata": {
    "collapsed": false
   },
   "outputs": [
    {
     "data": {
      "text/plain": [
       "1.6666666666666667"
      ]
     },
     "execution_count": 60,
     "metadata": {},
     "output_type": "execute_result"
    }
   ],
   "source": [
    "divide(3,5)"
   ]
  },
  {
   "cell_type": "code",
   "execution_count": 67,
   "metadata": {
    "collapsed": true
   },
   "outputs": [],
   "source": [
    "def div(denominator,numerator,as_int=False):\n",
    "    quotient = numerator/denominator\n",
    "    if as_int:\n",
    "        return int(quotient)\n",
    "    return quotient"
   ]
  },
  {
   "cell_type": "code",
   "execution_count": 71,
   "metadata": {
    "collapsed": false
   },
   "outputs": [
    {
     "data": {
      "text/plain": [
       "1"
      ]
     },
     "execution_count": 71,
     "metadata": {},
     "output_type": "execute_result"
    }
   ],
   "source": [
    "div(3,5,True)"
   ]
  },
  {
   "cell_type": "code",
   "execution_count": 70,
   "metadata": {
    "collapsed": false
   },
   "outputs": [
    {
     "data": {
      "text/plain": [
       "0"
      ]
     },
     "execution_count": 70,
     "metadata": {},
     "output_type": "execute_result"
    }
   ],
   "source": [
    "div(numerator=3, denominator=5,as_int=True)"
   ]
  },
  {
   "cell_type": "code",
   "execution_count": 65,
   "metadata": {
    "collapsed": false
   },
   "outputs": [
    {
     "data": {
      "text/plain": [
       "1.6666666666666667"
      ]
     },
     "execution_count": 65,
     "metadata": {},
     "output_type": "execute_result"
    }
   ],
   "source": [
    "divide(x=3,y=5)"
   ]
  },
  {
   "cell_type": "code",
   "execution_count": 72,
   "metadata": {
    "collapsed": true
   },
   "outputs": [],
   "source": [
    "def eggs(*args):\n",
    "    print (args)"
   ]
  },
  {
   "cell_type": "code",
   "execution_count": 74,
   "metadata": {
    "collapsed": false
   },
   "outputs": [
    {
     "name": "stdout",
     "output_type": "stream",
     "text": [
      "(1, 2, 'fried', 'green')\n"
     ]
    }
   ],
   "source": [
    "eggs(1,2,\"fried\",'green')"
   ]
  },
  {
   "cell_type": "code",
   "execution_count": 77,
   "metadata": {
    "collapsed": true
   },
   "outputs": [],
   "source": [
    "def spam(**kw):\n",
    "    print(kw)\n",
    "    return kw"
   ]
  },
  {
   "cell_type": "code",
   "execution_count": 79,
   "metadata": {
    "collapsed": false
   },
   "outputs": [
    {
     "name": "stdout",
     "output_type": "stream",
     "text": [
      "{'count': 5, 'name': 'fried', 'value': 'eggs'}\n"
     ]
    }
   ],
   "source": [
    "parms = spam(name='fried',value='eggs',count=5)"
   ]
  },
  {
   "cell_type": "code",
   "execution_count": 123,
   "metadata": {
    "collapsed": false
   },
   "outputs": [
    {
     "data": {
      "text/plain": [
       "'5      fried'"
      ]
     },
     "execution_count": 123,
     "metadata": {},
     "output_type": "execute_result"
    }
   ],
   "source": [
    "fmtS='{count:d} {name:>10s}'\n",
    "fmtS.format(**parms)"
   ]
  },
  {
   "cell_type": "code",
   "execution_count": 121,
   "metadata": {
    "collapsed": false
   },
   "outputs": [
    {
     "data": {
      "text/plain": [
       "'5      fried'"
      ]
     },
     "execution_count": 121,
     "metadata": {},
     "output_type": "execute_result"
    }
   ],
   "source": [
    "'{count:d} {name:>10s}'.format(**parms)"
   ]
  },
  {
   "cell_type": "code",
   "execution_count": 81,
   "metadata": {
    "collapsed": true
   },
   "outputs": [],
   "source": [
    "def from_hell(x,y,d='fred',*args,**kw):\n",
    "    print('i am alive')"
   ]
  },
  {
   "cell_type": "code",
   "execution_count": 82,
   "metadata": {
    "collapsed": false
   },
   "outputs": [
    {
     "name": "stdout",
     "output_type": "stream",
     "text": [
      "i am alive\n"
     ]
    }
   ],
   "source": [
    "from_hell(1,2)"
   ]
  },
  {
   "cell_type": "code",
   "execution_count": 99,
   "metadata": {
    "collapsed": false
   },
   "outputs": [
    {
     "name": "stdout",
     "output_type": "stream",
     "text": [
      "spam(1) 22\n",
      "spam(2) wolverine\n",
      "eggs(1) 5\n",
      "eggs(2) wolverine\n",
      "x is  wolverine\n"
     ]
    }
   ],
   "source": [
    "# %load EXAMPLES3/scope.py\n",
    "#!/usr/bin/python\n",
    "\n",
    "x = 5\n",
    "\n",
    "def spam():\n",
    "\tx = 22   # does not set global x\n",
    "\tprint(\"spam(1)\",x)\n",
    "\ty = \"wolverine\"\n",
    "\tprint(\"spam(2)\",y)\n",
    "\n",
    "def eggs():\n",
    "\tglobal x\n",
    "\tprint(\"eggs(1)\",x)\n",
    "\tx = \"wolverine\"\n",
    "\tprint(\"eggs(2)\",x)\n",
    "\n",
    "spam()\n",
    "eggs()\n",
    "print(\"x is \",x)\n"
   ]
  },
  {
   "cell_type": "code",
   "execution_count": 118,
   "metadata": {
    "collapsed": true
   },
   "outputs": [],
   "source": [
    "def ham():\n",
    "    def whoa():\n",
    "        print( \"whoa:\",locals())\n",
    "        print( \"whoa:\", fred)\n",
    "    fred = 3\n",
    "    #print(globals())\n",
    "    print(\"ham:\",locals())\n",
    "    whoa()\n"
   ]
  },
  {
   "cell_type": "code",
   "execution_count": 119,
   "metadata": {
    "collapsed": false
   },
   "outputs": [
    {
     "name": "stdout",
     "output_type": "stream",
     "text": [
      "ham: {'fred': 3, 'whoa': <function ham.<locals>.whoa at 0x7fe41425bf28>}\n",
      "whoa: {'fred': 3}\n",
      "whoa: 3\n"
     ]
    }
   ],
   "source": [
    "ham()"
   ]
  },
  {
   "cell_type": "code",
   "execution_count": 120,
   "metadata": {
    "collapsed": false
   },
   "outputs": [
    {
     "name": "stdout",
     "output_type": "stream",
     "text": [
      "ham: {'fred': 3, 'whoa': <function ham.<locals>.whoa at 0x7fe41425b840>}\n",
      "whoa: {'fred': 3}\n",
      "whoa: 3\n",
      "None\n"
     ]
    }
   ],
   "source": [
    "x = ham()\n",
    "print(x)"
   ]
  },
  {
   "cell_type": "code",
   "execution_count": null,
   "metadata": {
    "collapsed": true
   },
   "outputs": [],
   "source": [
    "# %load calc.py\n",
    "#!/usr/bin/python\n",
    "\n",
    "def add(x,y):\n",
    "    return x + y\n",
    "\n",
    "def sub(x,y):\n",
    "    return x - y\n",
    "\n",
    "def mul(x,y):\n",
    "    return x * y\n",
    "\n",
    "def div(x,y):\n",
    "    return x/y\n",
    "\n",
    "ops = {\n",
    "    '+' : add,\n",
    "    '-' : sub,\n",
    "    '*' : mul,\n",
    "    '/' : div\n",
    "    }\n",
    "\n",
    "while True:\n",
    "    expr = input(\"Enter a math expression: \")\n",
    "\n",
    "    if expr.lower() == 'q':\n",
    "        break\n",
    "\n",
    "    (v1,op,v2) = expr.split()\n",
    "    v1 = float(v1)\n",
    "    v2 = float(v2)\n",
    "\n",
    "    f = ops.get(op)\n",
    "    if f is None:\n",
    "        print(\"Bad operator!\")\n",
    "        continue\n",
    "    result = f(v1,v2)\n",
    "    print(\"{0:.3f}\".format(result))"
   ]
  }
 ],
 "metadata": {
  "anaconda-cloud": {},
  "kernelspec": {
   "display_name": "Python [Root]",
   "language": "python",
   "name": "Python [Root]"
  },
  "language_info": {
   "codemirror_mode": {
    "name": "ipython",
    "version": 3
   },
   "file_extension": ".py",
   "mimetype": "text/x-python",
   "name": "python",
   "nbconvert_exporter": "python",
   "pygments_lexer": "ipython3",
   "version": "3.5.2"
  }
 },
 "nbformat": 4,
 "nbformat_minor": 0
}
