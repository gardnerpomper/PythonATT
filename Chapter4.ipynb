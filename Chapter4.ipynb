{
 "cells": [
  {
   "cell_type": "markdown",
   "metadata": {},
   "source": [
    "# Chapter4 - Flow Control"
   ]
  },
  {
   "cell_type": "code",
   "execution_count": 68,
   "metadata": {
    "collapsed": false
   },
   "outputs": [
    {
     "name": "stdout",
     "output_type": "stream",
     "text": [
      "enter a number:-7\n",
      "-7\n"
     ]
    }
   ],
   "source": [
    "x = int(input(\"enter a number:\"))\n",
    "if x > 0:\n",
    "    if x > 10:\n",
    "        x += 10\n",
    "    x += 10\n",
    "print(x)"
   ]
  },
  {
   "cell_type": "code",
   "execution_count": 75,
   "metadata": {
    "collapsed": false
   },
   "outputs": [
    {
     "name": "stdout",
     "output_type": "stream",
     "text": [
      "enter a number:5\n",
      "aha!\n"
     ]
    }
   ],
   "source": [
    "x = int( input(\"enter a number:\"))\n",
    "if x is not False:\n",
    "    print ('aha!')"
   ]
  },
  {
   "cell_type": "code",
   "execution_count": 72,
   "metadata": {
    "collapsed": false
   },
   "outputs": [
    {
     "name": "stdout",
     "output_type": "stream",
     "text": [
      "1\n"
     ]
    }
   ],
   "source": [
    "print( int(True))"
   ]
  },
  {
   "cell_type": "code",
   "execution_count": 78,
   "metadata": {
    "collapsed": true
   },
   "outputs": [],
   "source": [
    "rc = x > 5"
   ]
  },
  {
   "cell_type": "code",
   "execution_count": 79,
   "metadata": {
    "collapsed": false
   },
   "outputs": [
    {
     "name": "stdout",
     "output_type": "stream",
     "text": [
      "False\n"
     ]
    }
   ],
   "source": [
    "print(rc)"
   ]
  },
  {
   "cell_type": "code",
   "execution_count": 81,
   "metadata": {
    "collapsed": false
   },
   "outputs": [
    {
     "data": {
      "text/plain": [
       "True"
      ]
     },
     "execution_count": 81,
     "metadata": {},
     "output_type": "execute_result"
    }
   ],
   "source": [
    "\"hello\" == \"HELLO\".lower()"
   ]
  },
  {
   "cell_type": "code",
   "execution_count": 81,
   "metadata": {
    "collapsed": false
   },
   "outputs": [
    {
     "data": {
      "text/plain": [
       "True"
      ]
     },
     "execution_count": 81,
     "metadata": {},
     "output_type": "execute_result"
    }
   ],
   "source": [
    "\"hello\" == \"HELLO\".lower()"
   ]
  },
  {
   "cell_type": "code",
   "execution_count": 82,
   "metadata": {
    "collapsed": false
   },
   "outputs": [
    {
     "data": {
      "text/plain": [
       "True"
      ]
     },
     "execution_count": 82,
     "metadata": {},
     "output_type": "execute_result"
    }
   ],
   "source": [
    "h = \"h\"\n",
    "h += \"ello\"\n",
    "h == \"hello\""
   ]
  },
  {
   "cell_type": "code",
   "execution_count": 83,
   "metadata": {
    "collapsed": false
   },
   "outputs": [
    {
     "name": "stdout",
     "output_type": "stream",
     "text": [
      "[1, 2]\n",
      "[1, 2]\n"
     ]
    },
    {
     "data": {
      "text/plain": [
       "True"
      ]
     },
     "execution_count": 83,
     "metadata": {},
     "output_type": "execute_result"
    }
   ],
   "source": [
    "l1 = [1]\n",
    "l1.append(2)\n",
    "l2 = []\n",
    "l2.extend([1,2])\n",
    "print(l1)\n",
    "print(l2)\n",
    "l1 == l2"
   ]
  },
  {
   "cell_type": "code",
   "execution_count": 84,
   "metadata": {
    "collapsed": true
   },
   "outputs": [],
   "source": [
    "x += 10 if x > 10 else 0"
   ]
  },
  {
   "cell_type": "code",
   "execution_count": 89,
   "metadata": {
    "collapsed": true
   },
   "outputs": [],
   "source": [
    "def f(x):\n",
    "    if x > 10:\n",
    "        return 10\n",
    "    else:\n",
    "        return 0"
   ]
  },
  {
   "cell_type": "code",
   "execution_count": 87,
   "metadata": {
    "collapsed": false
   },
   "outputs": [
    {
     "data": {
      "text/plain": [
       "10"
      ]
     },
     "execution_count": 87,
     "metadata": {},
     "output_type": "execute_result"
    }
   ],
   "source": [
    "f(15)"
   ]
  },
  {
   "cell_type": "code",
   "execution_count": 90,
   "metadata": {
    "collapsed": true
   },
   "outputs": [],
   "source": [
    "def two():\n",
    "   print ('two')\n",
    "   return True"
   ]
  },
  {
   "cell_type": "code",
   "execution_count": 97,
   "metadata": {
    "collapsed": false
   },
   "outputs": [
    {
     "name": "stdout",
     "output_type": "stream",
     "text": [
      "two\n",
      "yes\n"
     ]
    }
   ],
   "source": [
    "if x==5 and two():\n",
    "    print( 'yes')"
   ]
  },
  {
   "cell_type": "code",
   "execution_count": 98,
   "metadata": {
    "collapsed": false
   },
   "outputs": [
    {
     "data": {
      "text/plain": [
       "5"
      ]
     },
     "execution_count": 98,
     "metadata": {},
     "output_type": "execute_result"
    }
   ],
   "source": [
    "12 and 5"
   ]
  },
  {
   "cell_type": "code",
   "execution_count": 99,
   "metadata": {
    "collapsed": false
   },
   "outputs": [
    {
     "data": {
      "text/plain": [
       "True"
      ]
     },
     "execution_count": 99,
     "metadata": {},
     "output_type": "execute_result"
    }
   ],
   "source": [
    "y = 12\n",
    "y == 12 and x == 5"
   ]
  },
  {
   "cell_type": "code",
   "execution_count": 100,
   "metadata": {
    "collapsed": false
   },
   "outputs": [
    {
     "name": "stdout",
     "output_type": "stream",
     "text": [
      "2\n",
      "3\n",
      "4\n",
      "5\n"
     ]
    }
   ],
   "source": [
    "z = 1\n",
    "while z < 5:\n",
    "    z += 1\n",
    "    print(z)"
   ]
  },
  {
   "cell_type": "code",
   "execution_count": 101,
   "metadata": {
    "collapsed": false
   },
   "outputs": [
    {
     "name": "stdout",
     "output_type": "stream",
     "text": [
      "enter a name:fred\n",
      "fred\n",
      "enter a name:martin\n",
      "martin\n",
      "enter a name:\n",
      "\n"
     ]
    }
   ],
   "source": [
    "name = 'unknown'\n",
    "while len(name) > 0:\n",
    "    name = input('enter a name:')\n",
    "    print(name)"
   ]
  },
  {
   "cell_type": "code",
   "execution_count": 102,
   "metadata": {
    "collapsed": false
   },
   "outputs": [
    {
     "name": "stdout",
     "output_type": "stream",
     "text": [
      "enter a name:fred\n",
      "fred\n",
      "enter a name:martin\n",
      "martin\n",
      "enter a name:quit\n"
     ]
    }
   ],
   "source": [
    "name = 'unknown'\n",
    "while True:\n",
    "    name = input('enter a name:')\n",
    "    if name.lower().startswith('q'): \n",
    "        break\n",
    "    print (name)\n"
   ]
  },
  {
   "cell_type": "code",
   "execution_count": 117,
   "metadata": {
    "collapsed": false
   },
   "outputs": [
    {
     "name": "stdout",
     "output_type": "stream",
     "text": [
      "1%2=1\n",
      "odd\n",
      "2%2=0\n",
      "2\n",
      "3%2=1\n",
      "odd\n",
      "4%2=0\n",
      "4\n",
      "5%2=1\n",
      "odd\n",
      "6%2=0\n",
      "6\n",
      "7%2=1\n",
      "odd\n",
      "8%2=0\n",
      "8\n",
      "9%2=1\n",
      "odd\n",
      "10%2=0\n",
      "10\n"
     ]
    }
   ],
   "source": [
    "x = 0\n",
    "while x < 10:\n",
    "    x += 1       \n",
    "    print('{:d}%2={:d}'.format(x,x%2))\n",
    "    if (x % 2) == 1:\n",
    "        print('odd')\n",
    "        continue\n",
    "    print(x)"
   ]
  },
  {
   "cell_type": "code",
   "execution_count": 110,
   "metadata": {
    "collapsed": false
   },
   "outputs": [
    {
     "data": {
      "text/plain": [
       "1"
      ]
     },
     "execution_count": 110,
     "metadata": {},
     "output_type": "execute_result"
    }
   ],
   "source": [
    "3 % 2"
   ]
  },
  {
   "cell_type": "code",
   "execution_count": 4,
   "metadata": {
    "collapsed": false
   },
   "outputs": [
    {
     "data": {
      "text/plain": [
       "(2, 3, 4, 5, 6, 7, 8, 9, 10, 'J', 'Q', 'K', 'A')"
      ]
     },
     "execution_count": 4,
     "metadata": {},
     "output_type": "execute_result"
    }
   ],
   "source": [
    "tuple( range(2,11)) + ('J','Q','K','A')"
   ]
  },
  {
   "cell_type": "code",
   "execution_count": 5,
   "metadata": {
    "collapsed": false
   },
   "outputs": [
    {
     "name": "stdout",
     "output_type": "stream",
     "text": [
      "/media/sf_IntroPythonATT/python1/ANSWERS3\n"
     ]
    }
   ],
   "source": [
    "%cd python1/ANSWERS3"
   ]
  },
  {
   "cell_type": "code",
   "execution_count": 8,
   "metadata": {
    "collapsed": false,
    "scrolled": true
   },
   "outputs": [
    {
     "name": "stdout",
     "output_type": "stream",
     "text": [
      "Enter Celsius temp: 100\n",
      "100.0 C is 212.0 F\n",
      "\n",
      "Enter Celsius temp: 0\n",
      "0.0 C is 32.0 F\n",
      "\n",
      "Enter Celsius temp: -40\n",
      "-40.0 C is -40.0 F\n",
      "\n",
      "Enter Celsius temp: q\n"
     ]
    }
   ],
   "source": [
    "# %load c2floop.py\n",
    "#!/usr/bin/python\n",
    "\n",
    "while True:\n",
    "    c = input('Enter Celsius temp: ')\n",
    "    if c.lower() == 'q':\n",
    "        break\n",
    "    c = float(c)\n",
    "    f = ((9 * c) / 5 ) + 32\n",
    "    print( ('{0:.1f} C is {1:.1f} F\\n'.format(c,f)))"
   ]
  },
  {
   "cell_type": "code",
   "execution_count": 7,
   "metadata": {
    "collapsed": false
   },
   "outputs": [
    {
     "data": {
      "text/plain": [
       "7"
      ]
     },
     "execution_count": 7,
     "metadata": {},
     "output_type": "execute_result"
    }
   ],
   "source": [
    "eval('2+5')"
   ]
  },
  {
   "cell_type": "code",
   "execution_count": 11,
   "metadata": {
    "collapsed": false
   },
   "outputs": [
    {
     "name": "stdout",
     "output_type": "stream",
     "text": [
      "Is 13 your number? h\n",
      "Is 6 your number? l\n",
      "Is 9 your number? l\n",
      "Is 11 your number? y\n",
      "I got it in 4 try(ies)!\n"
     ]
    }
   ],
   "source": [
    "# %load guess.py\n",
    "#!/usr/bin/python\n",
    "\n",
    "max = 26\n",
    "min = 0\n",
    "tries = 0\n",
    "\n",
    "while True:\n",
    "    guess = int((max + min)/2)\n",
    "    ans = input(\"Is {0} your number? \".format(guess))\n",
    "\n",
    "    if ans == \"q\":\n",
    "        break\n",
    "\n",
    "    tries = tries + 1\n",
    "\n",
    "    if ans == \"h\":\n",
    "        max = guess\n",
    "    elif ans == \"l\":\n",
    "        min = guess\n",
    "    elif ans == \"y\":\n",
    "        print(\"I got it in {0} try(ies)!\".format(tries))\n",
    "        break\n",
    "    else:\n",
    "        print(\"Please enter h, l, or y\")\n",
    "\n"
   ]
  },
  {
   "cell_type": "code",
   "execution_count": null,
   "metadata": {
    "collapsed": true
   },
   "outputs": [],
   "source": []
  }
 ],
 "metadata": {
  "anaconda-cloud": {},
  "kernelspec": {
   "display_name": "Python [Root]",
   "language": "python",
   "name": "Python [Root]"
  },
  "language_info": {
   "codemirror_mode": {
    "name": "ipython",
    "version": 3
   },
   "file_extension": ".py",
   "mimetype": "text/x-python",
   "name": "python",
   "nbconvert_exporter": "python",
   "pygments_lexer": "ipython3",
   "version": "3.5.2"
  }
 },
 "nbformat": 4,
 "nbformat_minor": 0
}
